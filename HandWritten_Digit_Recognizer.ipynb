{
  "nbformat": 4,
  "nbformat_minor": 0,
  "metadata": {
    "colab": {
      "provenance": []
    },
    "kernelspec": {
      "name": "python3",
      "display_name": "Python 3"
    }
  },
  "cells": [
    {
      "cell_type": "markdown",
      "metadata": {
        "id": "H3admfzhSeBq"
      },
      "source": [
        "# HandWritten Digit Recognition Using MNIST Datset using Python Sklearn library"
      ]
    },
    {
      "cell_type": "code",
      "metadata": {
        "id": "gfD8Pw1K_dw_"
      },
      "source": [
        "from sklearn.datasets import fetch_openml\n",
        "\n",
        "#avoid any kind of warnings\n",
        "import warnings\n",
        "warnings.filterwarnings(\"ignore\")"
      ],
      "execution_count": null,
      "outputs": []
    },
    {
      "cell_type": "code",
      "metadata": {
        "id": "XG87GMYi_3K_"
      },
      "source": [
        "# load the dataset\n",
        "mnist = fetch_openml('mnist_784')"
      ],
      "execution_count": null,
      "outputs": []
    },
    {
      "cell_type": "code",
      "metadata": {
        "colab": {
          "base_uri": "https://localhost:8080/"
        },
        "id": "Jlx4aOBHPhMX",
        "outputId": "30252528-8169-422e-9143-bdc7c516c52a"
      },
      "source": [
        "# These are the images\n",
        "# There are 70,000 images (28 by 28 images for a dimensionality of 784)\n",
        "print(mnist.data.shape)\n",
        "\n",
        "print(mnist.target.shape)"
      ],
      "execution_count": null,
      "outputs": [
        {
          "output_type": "stream",
          "text": [
            "(70000, 784)\n",
            "(70000,)\n"
          ],
          "name": "stdout"
        }
      ]
    },
    {
      "cell_type": "code",
      "metadata": {
        "id": "9Prllo-GP9Jk"
      },
      "source": [
        "# separate the dataset in two parts as features and target\n",
        "x, y = mnist['data'], mnist['target']"
      ],
      "execution_count": null,
      "outputs": []
    },
    {
      "cell_type": "markdown",
      "metadata": {
        "id": "WQoHKj5TQWw2"
      },
      "source": [
        "* If you see the x, it's a one dimensional data\n",
        "* to see the feature as image we have to reshape it into 28*28\n",
        "* so, to plot it we will use matplotlib\n",
        "* we need to reshape it into 28*28 because it is a 1-D array and rows are stacked in form of digit."
      ]
    },
    {
      "cell_type": "code",
      "metadata": {
        "id": "eVfQK0VqQO8y"
      },
      "source": [
        "import matplotlib\n",
        "import matplotlib.pyplot as plt"
      ],
      "execution_count": null,
      "outputs": []
    },
    {
      "cell_type": "code",
      "metadata": {
        "id": "3l9BmxQnQTF-"
      },
      "source": [
        "# I will show the example of any 1 label by plotting it, let's check\n",
        "some_digit = x[161]\n",
        "some_digit_image = some_digit.reshape(28,28)"
      ],
      "execution_count": null,
      "outputs": []
    },
    {
      "cell_type": "code",
      "metadata": {
        "colab": {
          "base_uri": "https://localhost:8080/",
          "height": 265
        },
        "id": "eyIbM5feRSvx",
        "outputId": "c49dd10c-4323-44a3-d720-06d9c51eba21"
      },
      "source": [
        "#plot an image\n",
        "plt.imshow(some_digit_image, cmap=matplotlib.cm.binary, interpolation=\"nearest\")\n",
        "plt.axis(\"off\")"
      ],
      "execution_count": null,
      "outputs": [
        {
          "output_type": "execute_result",
          "data": {
            "text/plain": [
              "(-0.5, 27.5, 27.5, -0.5)"
            ]
          },
          "metadata": {
            "tags": []
          },
          "execution_count": 12
        },
        {
          "output_type": "display_data",
          "data": {
            "image/png": "[encoded data removed]",
            "text/plain": [
              "<Figure size 432x288 with 1 Axes>"
            ]
          },
          "metadata": {
            "tags": [],
            "needs_background": "light"
          }
        }
      ]
    },
    {
      "cell_type": "markdown",
      "metadata": {
        "id": "jX2gTEzfRlB0"
      },
      "source": [
        "**You can try with different images by using different labels**"
      ]
    },
    {
      "cell_type": "code",
      "metadata": {
        "colab": {
          "base_uri": "https://localhost:8080/",
          "height": 35
        },
        "id": "hmq91fIkRiZZ",
        "outputId": "5e339562-363e-43ee-fd26-e12b7b184f1a"
      },
      "source": [
        "# le's see it's label\n",
        "y[161]    #YEAHH!.. it's a 2 only"
      ],
      "execution_count": null,
      "outputs": [
        {
          "output_type": "execute_result",
          "data": {
            "application/vnd.google.colaboratory.intrinsic+json": {
              "type": "string"
            },
            "text/plain": [
              "'2'"
            ]
          },
          "metadata": {
            "tags": []
          },
          "execution_count": 13
        }
      ]
    },
    {
      "cell_type": "markdown",
      "metadata": {
        "id": "3osuf0bBR8Lw"
      },
      "source": [
        "## Splitting Dataset into Training and Test set(MNIST)\n",
        "\n",
        "**The mnist dataset is pre splitted by someone that the first 60000 images are in trained set and last 10000 are a test set. so we will move with this only**"
      ]
    },
    {
      "cell_type": "code",
      "metadata": {
        "id": "cHQjU3A7Rz0a"
      },
      "source": [
        "x_train, x_test = x[:60000], x[60000:]\n",
        "y_train, y_test = y[:60000], y[60000:]"
      ],
      "execution_count": null,
      "outputs": []
    },
    {
      "cell_type": "markdown",
      "metadata": {
        "id": "5h68Wgx7TDOI"
      },
      "source": [
        "- you can split the dataset using train-test split using test ratio as 1/7.0 and set the random_state and it will be splitted randomly 60000 train and 10000 test data size."
      ]
    },
    {
      "cell_type": "code",
      "metadata": {
        "id": "7OIa4yPATCBu"
      },
      "source": [
        "# here, i will be shuffling the train dataset to avoid that model learn noise and to include each kind of dataset in training\n",
        "import numpy as np\n",
        "shuffle_index = np.random.permutation(60000)\n",
        "x_train,y_train = x_train[shuffle_index], y_train[shuffle_index]"
      ],
      "execution_count": null,
      "outputs": []
    },
    {
      "cell_type": "markdown",
      "metadata": {
        "id": "dXQiJKuuT33q"
      },
      "source": [
        "### Showing the images and labels(MNIST)"
      ]
    },
    {
      "cell_type": "code",
      "metadata": {
        "colab": {
          "base_uri": "https://localhost:8080/",
          "height": 236
        },
        "id": "O7zMaCkIT0zZ",
        "outputId": "0b2a0c41-fa11-4f05-9117-575dd6398501"
      },
      "source": [
        "plt.figure(figsize=(20,4))\n",
        "\n",
        "for index, (image, label) in enumerate(zip(x_train[5:10], y_train[5:10])):\n",
        "  plt.subplot(1,5, index+1)\n",
        "  plt.imshow(np.reshape(image, (28,28)), cmap=plt.cm.gray)\n",
        "  plt.title(\"Training %i \\n\" %np.int8(label), fontsize=15)"
      ],
      "execution_count": null,
      "outputs": [
        {
          "output_type": "display_data",
          "data": {
            "image/png": "[encoded data removed]",
            "text/plain": [
              "<Figure size 1440x288 with 5 Axes>"
            ]
          },
          "metadata": {
            "tags": [],
            "needs_background": "light"
          }
        }
      ]
    },
    {
      "cell_type": "markdown",
      "metadata": {
        "id": "Q0-Lv2-bVokc"
      },
      "source": [
        "**As, it is a classification problem, but not a binary classification. I will give one example in this as by building a 2-detector that is this a 2 or not then we will apply this on training dataset and regognize the digits**"
      ]
    },
    {
      "cell_type": "markdown",
      "metadata": {
        "id": "G0F2-Pj_WS6H"
      },
      "source": [
        "## Building a 2-Detector"
      ]
    },
    {
      "cell_type": "code",
      "metadata": {
        "id": "f6h1KQdXU8Tg"
      },
      "source": [
        "y_train = y_train.astype(np.int8)\n",
        "y_test = y_test.astype(np.int8)\n",
        "y_train_2 = (y_train==2)\n",
        "y_test_2 = (y_test==2)"
      ],
      "execution_count": null,
      "outputs": []
    },
    {
      "cell_type": "code",
      "metadata": {
        "colab": {
          "base_uri": "https://localhost:8080/"
        },
        "id": "28OUYMazWvFv",
        "outputId": "b2fd483b-513a-4239-f262-8f39686b90c8"
      },
      "source": [
        "y_train_2\n",
        "# the chances for appearing a 2 only 10% among0-9 so it's showing mostly False."
      ],
      "execution_count": null,
      "outputs": [
        {
          "output_type": "execute_result",
          "data": {
            "text/plain": [
              "array([False, False, False, ..., False, False, False])"
            ]
          },
          "metadata": {
            "tags": []
          },
          "execution_count": 21
        }
      ]
    },
    {
      "cell_type": "code",
      "metadata": {
        "id": "heKhy_iPWx3e"
      },
      "source": [
        "from sklearn.linear_model import LogisticRegression\n",
        "log_clf = LogisticRegression(tol=0.1)"
      ],
      "execution_count": null,
      "outputs": []
    },
    {
      "cell_type": "code",
      "source": [],
      "metadata": {
        "id": "CeMATASGWzoK"
      },
      "execution_count": null,
      "outputs": []
    },
    {
      "cell_type": "code",
      "metadata": {
        "colab": {
          "base_uri": "https://localhost:8080/"
        },
        "id": "R7Ns1UbZXEPL",
        "outputId": "bd83f275-28f9-44db-e009-59bd575ff5d0"
      },
      "source": [
        "log_clf.fit(x_train,y_train_2)"
      ],
      "execution_count": null,
      "outputs": [
        {
          "output_type": "stream",
          "text": [
            "/usr/local/lib/python3.6/dist-packages/sklearn/linear_model/_logistic.py:940: ConvergenceWarning: lbfgs failed to converge (status=1):\n",
            "STOP: TOTAL NO. of ITERATIONS REACHED LIMIT.\n",
            "\n",
            "Increase the number of iterations (max_iter) or scale the data as shown in:\n",
            "    https://scikit-learn.org/stable/modules/preprocessing.html\n",
            "Please also refer to the documentation for alternative solver options:\n",
            "    https://scikit-learn.org/stable/modules/linear_model.html#logistic-regression\n",
            "  extra_warning_msg=_LOGISTIC_SOLVER_CONVERGENCE_MSG)\n"
          ],
          "name": "stderr"
        },
        {
          "output_type": "execute_result",
          "data": {
            "text/plain": [
              "LogisticRegression(C=1.0, class_weight=None, dual=False, fit_intercept=True,\n",
              "                   intercept_scaling=1, l1_ratio=None, max_iter=100,\n",
              "                   multi_class='auto', n_jobs=None, penalty='l2',\n",
              "                   random_state=None, solver='lbfgs', tol=0.1, verbose=0,\n",
              "                   warm_start=False)"
            ]
          },
          "metadata": {
            "tags": []
          },
          "execution_count": 24
        }
      ]
    },
    {
      "cell_type": "code",
      "metadata": {
        "colab": {
          "base_uri": "https://localhost:8080/"
        },
        "id": "5v7NTSwRXNrx",
        "outputId": "85d73a50-1c3a-433a-8ba9-44e3f2219537"
      },
      "source": [
        "# let's test it on our previous label which we plot as 2\n",
        "log_clf.predict([some_digit])\n",
        "# WOW!. nice, it has predicted correctly."
      ],
      "execution_count": null,
      "outputs": [
        {
          "output_type": "execute_result",
          "data": {
            "text/plain": [
              "array([ True])"
            ]
          },
          "metadata": {
            "tags": []
          },
          "execution_count": 25
        }
      ]
    },
    {
      "cell_type": "code",
      "metadata": {
        "colab": {
          "base_uri": "https://localhost:8080/"
        },
        "id": "qD2Zcdz5Xa5N",
        "outputId": "ee856dfc-3d06-4019-c156-8c0ec29cf723"
      },
      "source": [
        "# we can also cross-validate it and know the score, let's do that also.\n",
        "from sklearn.model_selection import cross_val_score\n",
        "\n",
        "cross_val_score(log_clf, x_train, y_train_2, scoring=\"accuracy\")"
      ],
      "execution_count": null,
      "outputs": [
        {
          "output_type": "execute_result",
          "data": {
            "text/plain": [
              "array([0.97666667, 0.9785    , 0.97883333, 0.97925   , 0.97983333])"
            ]
          },
          "metadata": {
            "tags": []
          },
          "execution_count": 29
        }
      ]
    },
    {
      "cell_type": "markdown",
      "metadata": {
        "id": "dxnQL5ndapTT"
      },
      "source": [
        "**It's very good. we got a accuracy of 97 per cent. But it's simply a binary classification. now we will go and apply this on our training dataset**"
      ]
    },
    {
      "cell_type": "code",
      "metadata": {
        "id": "uqXt92-DYCa3"
      },
      "source": [
        "# create a new instance of model\n",
        "clf = LogisticRegression(solver='lbfgs')"
      ],
      "execution_count": null,
      "outputs": []
    },
    {
      "cell_type": "code",
      "metadata": {
        "colab": {
          "base_uri": "https://localhost:8080/"
        },
        "id": "QeZNzLIzbQ39",
        "outputId": "5ce64e73-18ab-4e50-9b33-33eefc52e860"
      },
      "source": [
        "clf.fit(x_train, y_train)\n",
        "# it will take some time to train, please wait!."
      ],
      "execution_count": null,
      "outputs": [
        {
          "output_type": "execute_result",
          "data": {
            "text/plain": [
              "LogisticRegression(C=1.0, class_weight=None, dual=False, fit_intercept=True,\n",
              "                   intercept_scaling=1, l1_ratio=None, max_iter=100,\n",
              "                   multi_class='auto', n_jobs=None, penalty='l2',\n",
              "                   random_state=None, solver='lbfgs', tol=0.0001, verbose=0,\n",
              "                   warm_start=False)"
            ]
          },
          "metadata": {
            "tags": []
          },
          "execution_count": 31
        }
      ]
    },
    {
      "cell_type": "code",
      "metadata": {
        "colab": {
          "base_uri": "https://localhost:8080/"
        },
        "id": "JbwDbbseb0Y_",
        "outputId": "77275133-bce8-4448-9ca7-3b6dfc318430"
      },
      "source": [
        "# predict the labels of new data(new images)\n",
        "#it will return a numpy array\n",
        "clf.predict(x_test[0].reshape(1,-1))"
      ],
      "execution_count": null,
      "outputs": [
        {
          "output_type": "execute_result",
          "data": {
            "text/plain": [
              "array([7], dtype=int8)"
            ]
          },
          "metadata": {
            "tags": []
          },
          "execution_count": 33
        }
      ]
    },
    {
      "cell_type": "code",
      "metadata": {
        "colab": {
          "base_uri": "https://localhost:8080/"
        },
        "id": "De9jWj41cR0p",
        "outputId": "f400d2d3-98dc-4e09-9b5c-74bfb6d5855e"
      },
      "source": [
        "# check the predicted label\n",
        "y_test[0]"
      ],
      "execution_count": null,
      "outputs": [
        {
          "output_type": "execute_result",
          "data": {
            "text/plain": [
              "7"
            ]
          },
          "metadata": {
            "tags": []
          },
          "execution_count": 34
        }
      ]
    },
    {
      "cell_type": "code",
      "metadata": {
        "colab": {
          "base_uri": "https://localhost:8080/"
        },
        "id": "mHwqSuXTcbjX",
        "outputId": "4045a448-e366-44ae-a41d-08fc56f5b1ce"
      },
      "source": [
        "# predict for multiple observation(many images)\n",
        "print(\"Predicted labels\")\n",
        "my_pred = clf.predict(x_test[0:10])\n",
        "print(my_pred)\n",
        "print(\"\\nTrue Labels\")\n",
        "y_test[0:10]\n",
        "# we can see that only 1 point is mis-classified"
      ],
      "execution_count": null,
      "outputs": [
        {
          "output_type": "stream",
          "text": [
            "Predicted labels\n",
            "[7 2 1 0 4 1 4 9 6 9]\n",
            "\n",
            "True Labels\n"
          ],
          "name": "stdout"
        },
        {
          "output_type": "execute_result",
          "data": {
            "text/plain": [
              "array([7, 2, 1, 0, 4, 1, 4, 9, 5, 9], dtype=int8)"
            ]
          },
          "metadata": {
            "tags": []
          },
          "execution_count": 38
        }
      ]
    },
    {
      "cell_type": "code",
      "metadata": {
        "id": "q0LI0LF9cs_8"
      },
      "source": [
        "# make prediction on entire dataset\n",
        "predictions = clf.predict(x_test)"
      ],
      "execution_count": null,
      "outputs": []
    },
    {
      "cell_type": "markdown",
      "metadata": {
        "id": "Ko4AoaMvdVMO"
      },
      "source": [
        "## Measuring Model Performance(MNIST)\n",
        "- there are many metrics to measure the performance, for the ease of simplicity I am going to use accuracy score only."
      ]
    },
    {
      "cell_type": "code",
      "metadata": {
        "colab": {
          "base_uri": "https://localhost:8080/"
        },
        "id": "nR8ywwSycwfR",
        "outputId": "e4d82ee1-443e-43e0-f0c8-8dd37418200b"
      },
      "source": [
        "score = clf.score(x_test, y_test)\n",
        "print(f\"accuracy score : {score}\")"
      ],
      "execution_count": null,
      "outputs": [
        {
          "output_type": "stream",
          "text": [
            "accuracy score : 0.9255\n"
          ],
          "name": "stdout"
        }
      ]
    },
    {
      "cell_type": "markdown",
      "metadata": {
        "id": "EJj7jNpMeDbl"
      },
      "source": [
        "**The score is still very nice, 92 percent accuracy**"
      ]
    },
    {
      "cell_type": "markdown",
      "metadata": {
        "id": "ib2KrlZdeKVM"
      },
      "source": [
        "## Displaying the misclassified images with predicted labels(MNIST)"
      ]
    },
    {
      "cell_type": "code",
      "metadata": {
        "id": "UZAb7kIvd0Qd"
      },
      "source": [
        "index=0\n",
        "misclassified_img = []\n",
        "for label, predict in zip(y_test, predictions):\n",
        "  if label != predict:\n",
        "    misclassified_img.append(index)\n",
        "  index += 1"
      ],
      "execution_count": null,
      "outputs": []
    },
    {
      "cell_type": "code",
      "metadata": {
        "colab": {
          "base_uri": "https://localhost:8080/",
          "height": 219
        },
        "id": "e-KkzPDse3IB",
        "outputId": "70576c94-160e-41cf-a3c5-9548819c7858"
      },
      "source": [
        "plt.figure(figsize=(20,4))\n",
        "for plotindex,misindex in enumerate(misclassified_img[0:5]):\n",
        "  plt.subplot(1, 5, plotindex+1)\n",
        "  plt.imshow(np.reshape(x_test[misindex], (28,28)), cmap=plt.cm.gray)\n",
        "  plt.title(f\"Predicted {predictions[misindex]} Actual {y_test[misindex]}\")"
      ],
      "execution_count": null,
      "outputs": [
        {
          "output_type": "display_data",
          "data": {
            "image/png": "[encoded data removed]",
            "text/plain": [
              "<Figure size 1440x288 with 5 Axes>"
            ]
          },
          "metadata": {
            "tags": [],
            "needs_background": "light"
          }
        }
      ]
    },
    {
      "cell_type": "markdown",
      "metadata": {
        "id": "5L-iewCIgbHy"
      },
      "source": [
        "**Have you enjoyed the peoject till here, The important thing is making a Machine learning model in Sklearn is not a lot of work. The main thing is to get the concepts which are running behind it. I hope the notebook help you to find the best from this and whatever you motive for project is.**\n",
        "\n",
        "**Thank you so much.**"
      ]
    }
  ]
}